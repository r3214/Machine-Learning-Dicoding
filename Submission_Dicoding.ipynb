{
  "nbformat": 4,
  "nbformat_minor": 0,
  "metadata": {
    "colab": {
      "name": "Submission Dicoding.ipynb",
      "provenance": [],
      "collapsed_sections": [],
      "authorship_tag": "ABX9TyNPiyDCnkElbNAfc9dmsbQh",
      "include_colab_link": true
    },
    "kernelspec": {
      "name": "python3",
      "display_name": "Python 3"
    }
  },
  "cells": [
    {
      "cell_type": "markdown",
      "metadata": {
        "id": "view-in-github",
        "colab_type": "text"
      },
      "source": [
        "<a href=\"https://colab.research.google.com/github/r3214/Machine-Learning-Dicoding/blob/main/Submission_Dicoding.ipynb\" target=\"_parent\"><img src=\"https://colab.research.google.com/assets/colab-badge.svg\" alt=\"Open In Colab\"/></a>"
      ]
    },
    {
      "cell_type": "code",
      "metadata": {
        "id": "hbKIFJ7C_0HF"
      },
      "source": [
        "import tensorflow as tf\n",
        "import sklearn\n",
        "from tensorflow.keras.optimizers import RMSprop\n",
        "from tensorflow.keras.preprocessing.image import ImageDataGenerator\n",
        "from sklearn.model_selection import train_test_split\n",
        "import os, shutil, zipfile"
      ],
      "execution_count": 1,
      "outputs": []
    },
    {
      "cell_type": "code",
      "metadata": {
        "id": "UtffY6AAAGRN",
        "outputId": "39e228dd-2d0e-4c5d-9b45-3cb5471ee0ac",
        "colab": {
          "base_uri": "https://localhost:8080/",
          "height": 217
        }
      },
      "source": [
        "!wget --no-check-certificate \\\n",
        "https://dicodingacademy.blob.core.windows.net/picodiploma/ml_pemula_academy/rockpaperscissors.zip -O /tmp/rockpaperscissors.zip"
      ],
      "execution_count": 2,
      "outputs": [
        {
          "output_type": "stream",
          "text": [
            "--2020-10-14 12:27:27--  https://dicodingacademy.blob.core.windows.net/picodiploma/ml_pemula_academy/rockpaperscissors.zip\n",
            "Resolving dicodingacademy.blob.core.windows.net (dicodingacademy.blob.core.windows.net)... 52.239.197.36\n",
            "Connecting to dicodingacademy.blob.core.windows.net (dicodingacademy.blob.core.windows.net)|52.239.197.36|:443... connected.\n",
            "HTTP request sent, awaiting response... 200 OK\n",
            "Length: 322873683 (308M) [application/zip]\n",
            "Saving to: ‘/tmp/rockpaperscissors.zip’\n",
            "\n",
            "/tmp/rockpapersciss 100%[===================>] 307.92M  3.66MB/s    in 63s     \n",
            "\n",
            "2020-10-14 12:28:31 (4.92 MB/s) - ‘/tmp/rockpaperscissors.zip’ saved [322873683/322873683]\n",
            "\n"
          ],
          "name": "stdout"
        }
      ]
    },
    {
      "cell_type": "code",
      "metadata": {
        "id": "qDgo-Qw8AL8l"
      },
      "source": [
        "# extract file zip\n",
        "import zipfile\n",
        "local_zip = '/tmp/rockpaperscissors.zip'\n",
        "zip_ref = zipfile.ZipFile(local_zip, 'r')\n",
        "zip_ref.extractall('/tmp')\n",
        "zip_ref.close()"
      ],
      "execution_count": 3,
      "outputs": []
    },
    {
      "cell_type": "markdown",
      "metadata": {
        "id": "X7SYwcH6AQTM"
      },
      "source": [
        "Split DataSet"
      ]
    },
    {
      "cell_type": "code",
      "metadata": {
        "id": "jpkMYi-bATyA"
      },
      "source": [
        "#make directory for train and val\n",
        "base_dir = '/tmp/rockpaperscissors/'\n",
        "train_dir = os.path.join(base_dir, 'train')\n",
        "validation_dir = os.path.join(base_dir, 'val')\n",
        "os.mkdir(train_dir)\n",
        "os.mkdir(validation_dir)"
      ],
      "execution_count": 4,
      "outputs": []
    },
    {
      "cell_type": "code",
      "metadata": {
        "id": "QDqyeSUoAWFR"
      },
      "source": [
        "#Link directory rock, paper, scissors\n",
        "roc_dir = os.path.join(base_dir, 'rock')\n",
        "pap_dir = os.path.join(base_dir, 'paper')\n",
        "sci_dir = os.path.join(base_dir, 'scissors')"
      ],
      "execution_count": 5,
      "outputs": []
    },
    {
      "cell_type": "code",
      "metadata": {
        "id": "5kVSLZR2AY_F"
      },
      "source": [
        "#make directory for rock, paper, scrissors in train_dir and validation_dir\n",
        "train_roc = os.path.join(train_dir, 'rock')\n",
        "train_pap = os.path.join(train_dir, 'paper')\n",
        "train_sci = os.path.join(train_dir, 'scissors')\n",
        "val_roc = os.path.join(validation_dir, 'rock')\n",
        "val_pap = os.path.join(validation_dir, 'paper')\n",
        "val_sci = os.path.join(validation_dir, 'scissors')\n",
        "\n",
        "os.mkdir(train_roc)\n",
        "os.mkdir(train_pap)\n",
        "os.mkdir(train_sci)\n",
        "os.mkdir(val_roc)\n",
        "os.mkdir(val_pap)\n",
        "os.mkdir(val_sci)"
      ],
      "execution_count": 6,
      "outputs": []
    },
    {
      "cell_type": "code",
      "metadata": {
        "id": "4pLH6zm0AjcM"
      },
      "source": [
        "#Split Data for Train and Validation\n",
        "train_roc_dir, val_roc_dir = train_test_split(os.listdir(roc_dir), test_size = 0.40)\n",
        "train_pap_dir, val_pap_dir = train_test_split(os.listdir(pap_dir), test_size = 0.40)\n",
        "train_sci_dir, val_sci_dir = train_test_split(os.listdir(sci_dir), test_size = 0.40)\n",
        "\n",
        "for i in train_roc_dir:\n",
        "  shutil.copy(os.path.join(roc_dir, i), os.path.join(train_roc, i))\n",
        "for i in train_pap_dir:\n",
        "  shutil.copy(os.path.join(pap_dir,i), os.path.join(train_pap,i))\n",
        "for i in train_sci_dir:\n",
        "  shutil.copy(os.path.join(sci_dir,i), os.path.join(train_sci,i))\n",
        "\n",
        "for i in val_roc_dir:\n",
        "  shutil.copy(os.path.join(roc_dir, i), os.path.join(val_roc,i))\n",
        "for i in val_pap_dir:\n",
        "  shutil.copy(os.path.join(pap_dir,i), os.path.join(val_pap,i))\n",
        "for i in val_sci_dir:\n",
        "  shutil.copy(os.path.join(sci_dir,i), os.path.join(val_sci,i))"
      ],
      "execution_count": 7,
      "outputs": []
    },
    {
      "cell_type": "markdown",
      "metadata": {
        "id": "Hyjq5r0BAu4W"
      },
      "source": [
        "Augmentation Image"
      ]
    },
    {
      "cell_type": "code",
      "metadata": {
        "id": "o77lqWMqAuTK",
        "outputId": "918444d8-5a15-4257-98f8-3e06d8a6b0a6",
        "colab": {
          "base_uri": "https://localhost:8080/",
          "height": 35
        }
      },
      "source": [
        "train_datagen = ImageDataGenerator(\n",
        "                    rescale=1./255,\n",
        "                    rotation_range=45,\n",
        "                    shear_range=0.2,\n",
        "                    width_shift_range=0.15,\n",
        "                    height_shift_range=0.15,\n",
        "                    horizontal_flip=True,\n",
        "                    vertical_flip=True,\n",
        "                    zoom_range=0.5,\n",
        "                    fill_mode = 'nearest'\n",
        "                    )\n",
        "\n",
        "train_generator = train_datagen.flow_from_directory(\n",
        "    batch_size=32,\n",
        "    directory=train_dir,\n",
        "    shuffle=True,\n",
        "    target_size=(150,150),\n",
        "    class_mode='categorical'\n",
        ")"
      ],
      "execution_count": 8,
      "outputs": [
        {
          "output_type": "stream",
          "text": [
            "Found 1312 images belonging to 3 classes.\n"
          ],
          "name": "stdout"
        }
      ]
    },
    {
      "cell_type": "code",
      "metadata": {
        "id": "MFjCjYrUA4x0",
        "outputId": "2404ce1d-da26-44e4-b8c2-2ea307868e19",
        "colab": {
          "base_uri": "https://localhost:8080/",
          "height": 35
        }
      },
      "source": [
        "val_datagen = ImageDataGenerator(rescale=1./255\n",
        "                                 )\n",
        "\n",
        "val_generator = val_datagen.flow_from_directory(\n",
        "    directory=validation_dir,\n",
        "    target_size=(150, 150),\n",
        "    batch_size= 32,\n",
        "    class_mode='categorical'\n",
        "    )"
      ],
      "execution_count": 9,
      "outputs": [
        {
          "output_type": "stream",
          "text": [
            "Found 876 images belonging to 3 classes.\n"
          ],
          "name": "stdout"
        }
      ]
    },
    {
      "cell_type": "code",
      "metadata": {
        "id": "YTZg8RfwDwZa",
        "outputId": "a3c32e87-a9b5-45d4-a327-8a0beccc1155",
        "colab": {
          "base_uri": "https://localhost:8080/",
          "height": 563
        }
      },
      "source": [
        "model = tf.keras.models.Sequential([\n",
        "                                    tf.keras.layers.Conv2D(32, (3,3), activation='relu', input_shape=(150, 150, 3)),\n",
        "                                    tf.keras.layers.MaxPooling2D(2, 2),\n",
        "                                    tf.keras.layers.Conv2D(64, (3,3), activation='relu'),\n",
        "                                    tf.keras.layers.MaxPooling2D(2,2),\n",
        "                                    tf.keras.layers.Conv2D(128, (3,3), activation='relu'),\n",
        "                                    tf.keras.layers.MaxPooling2D(2,2),\n",
        "                                    tf.keras.layers.Conv2D(128, (3,3), activation='relu'),\n",
        "                                    tf.keras.layers.MaxPooling2D(2,2),\n",
        "                                    tf.keras.layers.Flatten(),\n",
        "                                    tf.keras.layers.Dense(512, activation='relu'),\n",
        "                                    tf.keras.layers.Dense(3, activation='sigmoid')\n",
        "                                    ])\n",
        "\n",
        "model.summary()"
      ],
      "execution_count": 10,
      "outputs": [
        {
          "output_type": "stream",
          "text": [
            "Model: \"sequential\"\n",
            "_________________________________________________________________\n",
            "Layer (type)                 Output Shape              Param #   \n",
            "=================================================================\n",
            "conv2d (Conv2D)              (None, 148, 148, 32)      896       \n",
            "_________________________________________________________________\n",
            "max_pooling2d (MaxPooling2D) (None, 74, 74, 32)        0         \n",
            "_________________________________________________________________\n",
            "conv2d_1 (Conv2D)            (None, 72, 72, 64)        18496     \n",
            "_________________________________________________________________\n",
            "max_pooling2d_1 (MaxPooling2 (None, 36, 36, 64)        0         \n",
            "_________________________________________________________________\n",
            "conv2d_2 (Conv2D)            (None, 34, 34, 128)       73856     \n",
            "_________________________________________________________________\n",
            "max_pooling2d_2 (MaxPooling2 (None, 17, 17, 128)       0         \n",
            "_________________________________________________________________\n",
            "conv2d_3 (Conv2D)            (None, 15, 15, 128)       147584    \n",
            "_________________________________________________________________\n",
            "max_pooling2d_3 (MaxPooling2 (None, 7, 7, 128)         0         \n",
            "_________________________________________________________________\n",
            "flatten (Flatten)            (None, 6272)              0         \n",
            "_________________________________________________________________\n",
            "dense (Dense)                (None, 512)               3211776   \n",
            "_________________________________________________________________\n",
            "dense_1 (Dense)              (None, 3)                 1539      \n",
            "=================================================================\n",
            "Total params: 3,454,147\n",
            "Trainable params: 3,454,147\n",
            "Non-trainable params: 0\n",
            "_________________________________________________________________\n"
          ],
          "name": "stdout"
        }
      ]
    },
    {
      "cell_type": "code",
      "metadata": {
        "id": "KamhGdY2E9O9"
      },
      "source": [
        "model.compile(loss='categorical_crossentropy',\n",
        "              optimizer=tf.optimizers.Adam(),\n",
        "              metrics=['accuracy'])"
      ],
      "execution_count": 11,
      "outputs": []
    },
    {
      "cell_type": "code",
      "metadata": {
        "id": "zEPfxywNVS80"
      },
      "source": [
        "class myCallback(tf.keras.callbacks.Callback):\n",
        "  def on_epoch_end(self, epoch, logs={}):\n",
        "    if(logs.get('accuracy') > 0.96):\n",
        "      print(\"\\nAccuracy more than 96%, stop training!\")\n",
        "      self.model.stop_training = True\n",
        "\n",
        "callbacks = myCallback()"
      ],
      "execution_count": 12,
      "outputs": []
    },
    {
      "cell_type": "code",
      "metadata": {
        "id": "TNo4iH0zHMQc",
        "outputId": "6dab6ef7-ff48-4efe-dee1-20d6fa563d0b",
        "colab": {
          "base_uri": "https://localhost:8080/",
          "height": 636
        }
      },
      "source": [
        "import numpy as np\n",
        "epochs = 20\n",
        "\n",
        "history = model.fit(\n",
        "    train_generator,\n",
        "    steps_per_epoch=int(np.ceil(train_generator.n / float(32))),\n",
        "    epochs=epochs,\n",
        "    validation_data=val_generator,\n",
        "    validation_steps=int(np.ceil(val_generator.n / float(32))),\n",
        "    verbose =2,\n",
        "      callbacks=[callbacks]\n",
        ")"
      ],
      "execution_count": 13,
      "outputs": [
        {
          "output_type": "stream",
          "text": [
            "Epoch 1/20\n",
            "41/41 - 72s - loss: 1.0584 - accuracy: 0.4085 - val_loss: 0.8900 - val_accuracy: 0.5925\n",
            "Epoch 2/20\n",
            "41/41 - 72s - loss: 0.8524 - accuracy: 0.6113 - val_loss: 0.4661 - val_accuracy: 0.7888\n",
            "Epoch 3/20\n",
            "41/41 - 72s - loss: 0.5692 - accuracy: 0.7744 - val_loss: 0.1831 - val_accuracy: 0.9612\n",
            "Epoch 4/20\n",
            "41/41 - 71s - loss: 0.3740 - accuracy: 0.8674 - val_loss: 0.1146 - val_accuracy: 0.9783\n",
            "Epoch 5/20\n",
            "41/41 - 71s - loss: 0.2949 - accuracy: 0.9017 - val_loss: 0.2685 - val_accuracy: 0.8973\n",
            "Epoch 6/20\n",
            "41/41 - 71s - loss: 0.2609 - accuracy: 0.9230 - val_loss: 0.0877 - val_accuracy: 0.9772\n",
            "Epoch 7/20\n",
            "41/41 - 71s - loss: 0.2172 - accuracy: 0.9245 - val_loss: 0.2956 - val_accuracy: 0.8881\n",
            "Epoch 8/20\n",
            "41/41 - 71s - loss: 0.2592 - accuracy: 0.9131 - val_loss: 0.0927 - val_accuracy: 0.9715\n",
            "Epoch 9/20\n",
            "41/41 - 71s - loss: 0.1723 - accuracy: 0.9474 - val_loss: 0.0852 - val_accuracy: 0.9737\n",
            "Epoch 10/20\n",
            "41/41 - 71s - loss: 0.2056 - accuracy: 0.9306 - val_loss: 0.1489 - val_accuracy: 0.9612\n",
            "Epoch 11/20\n",
            "41/41 - 71s - loss: 0.1899 - accuracy: 0.9345 - val_loss: 0.1121 - val_accuracy: 0.9600\n",
            "Epoch 12/20\n",
            "41/41 - 71s - loss: 0.2028 - accuracy: 0.9383 - val_loss: 0.1581 - val_accuracy: 0.9532\n",
            "Epoch 13/20\n",
            "41/41 - 71s - loss: 0.1361 - accuracy: 0.9581 - val_loss: 0.0825 - val_accuracy: 0.9715\n",
            "Epoch 14/20\n",
            "41/41 - 71s - loss: 0.1588 - accuracy: 0.9489 - val_loss: 0.1239 - val_accuracy: 0.9589\n",
            "Epoch 15/20\n",
            "41/41 - 71s - loss: 0.1556 - accuracy: 0.9444 - val_loss: 0.1707 - val_accuracy: 0.9349\n",
            "Epoch 16/20\n",
            "\n",
            "Accuracy more than 96%, stop training!\n",
            "41/41 - 71s - loss: 0.1053 - accuracy: 0.9642 - val_loss: 0.0922 - val_accuracy: 0.9715\n"
          ],
          "name": "stdout"
        }
      ]
    },
    {
      "cell_type": "code",
      "metadata": {
        "id": "lK8vfF59LL6d"
      },
      "source": [
        "from matplotlib import pyplot as plt\n",
        "\n",
        "acc = history.history['accuracy']\n",
        "val_acc = history.history['val_accuracy']\n",
        "\n",
        "loss = history.history['loss']\n",
        "val_loss = history.history['val_loss']"
      ],
      "execution_count": 18,
      "outputs": []
    },
    {
      "cell_type": "code",
      "metadata": {
        "id": "V7tBiNArBTGz",
        "outputId": "b3db9a21-44ac-41bf-f2be-2b34beeaf1dc",
        "colab": {
          "base_uri": "https://localhost:8080/",
          "height": 295
        }
      },
      "source": [
        "plt.plot(acc, label='Training Accuracy')\n",
        "plt.plot(val_acc, label='Validation Accuracy')\n",
        "plt.legend(loc='lower right')\n",
        "plt.ylabel('Value')\n",
        "plt.xlabel('Epoch')\n",
        "plt.title('Training and Validation Accuracy')\n",
        "plt.show()"
      ],
      "execution_count": 20,
      "outputs": [
        {
          "output_type": "display_data",
          "data": {
            "image/png": "[encoded data removed]",
            "text/plain": [
              "<Figure size 432x288 with 1 Axes>"
            ]
          },
          "metadata": {
            "tags": [],
            "needs_background": "light"
          }
        }
      ]
    },
    {
      "cell_type": "code",
      "metadata": {
        "id": "LFoB6NDVLAhK",
        "outputId": "359b484f-b7c1-46aa-c4b2-81f9a76f096f",
        "colab": {
          "base_uri": "https://localhost:8080/",
          "height": 295
        }
      },
      "source": [
        "plt.plot(loss, label='Training Loss')\n",
        "plt.plot(val_loss, label='Validation Loss')\n",
        "plt.legend(loc='upper right')\n",
        "plt.ylabel('Value')\n",
        "plt.xlabel('Epoch')\n",
        "plt.title('Training and Validation Loss')\n",
        "plt.show()"
      ],
      "execution_count": 19,
      "outputs": [
        {
          "output_type": "display_data",
          "data": {
            "image/png": "[encoded data removed]",
            "text/plain": [
              "<Figure size 432x288 with 1 Axes>"
            ]
          },
          "metadata": {
            "tags": [],
            "needs_background": "light"
          }
        }
      ]
    },
    {
      "cell_type": "code",
      "metadata": {
        "id": "aXISVqbgMEko"
      },
      "source": [
        ""
      ],
      "execution_count": null,
      "outputs": []
    }
  ]
}