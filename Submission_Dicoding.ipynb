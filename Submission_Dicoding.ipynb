{
  "nbformat": 4,
  "nbformat_minor": 0,
  "metadata": {
    "colab": {
      "name": "Submission Dicoding.ipynb",
      "provenance": [],
      "authorship_tag": "ABX9TyPcTSpDAmDwrWpIdQcK2t1o",
      "include_colab_link": true
    },
    "kernelspec": {
      "name": "python3",
      "display_name": "Python 3"
    }
  },
  "cells": [
    {
      "cell_type": "markdown",
      "metadata": {
        "id": "view-in-github",
        "colab_type": "text"
      },
      "source": [
        "<a href=\"https://colab.research.google.com/github/r3214/Machine-Learning-Dicoding/blob/main/Submission_Dicoding.ipynb\" target=\"_parent\"><img src=\"https://colab.research.google.com/assets/colab-badge.svg\" alt=\"Open In Colab\"/></a>"
      ]
    },
    {
      "cell_type": "code",
      "metadata": {
        "id": "hbKIFJ7C_0HF"
      },
      "source": [
        "import tensorflow as tf\n",
        "import sklearn\n",
        "from tensorflow.keras.optimizers import RMSprop\n",
        "from tensorflow.keras.preprocessing.image import ImageDataGenerator\n",
        "from sklearn.model_selection import train_test_split\n",
        "import os, shutil, zipfile"
      ],
      "execution_count": 1,
      "outputs": []
    },
    {
      "cell_type": "code",
      "metadata": {
        "id": "UtffY6AAAGRN",
        "outputId": "90ea26b2-e4fb-44de-dc36-79270d970c22",
        "colab": {
          "base_uri": "https://localhost:8080/",
          "height": 217
        }
      },
      "source": [
        "!wget --no-check-certificate \\\n",
        "https://dicodingacademy.blob.core.windows.net/picodiploma/ml_pemula_academy/rockpaperscissors.zip -O /tmp/rockpaperscissors.zip"
      ],
      "execution_count": 2,
      "outputs": [
        {
          "output_type": "stream",
          "text": [
            "--2020-10-14 07:48:16--  https://dicodingacademy.blob.core.windows.net/picodiploma/ml_pemula_academy/rockpaperscissors.zip\n",
            "Resolving dicodingacademy.blob.core.windows.net (dicodingacademy.blob.core.windows.net)... 52.239.197.36\n",
            "Connecting to dicodingacademy.blob.core.windows.net (dicodingacademy.blob.core.windows.net)|52.239.197.36|:443... connected.\n",
            "HTTP request sent, awaiting response... 200 OK\n",
            "Length: 322873683 (308M) [application/zip]\n",
            "Saving to: ‘/tmp/rockpaperscissors.zip’\n",
            "\n",
            "/tmp/rockpapersciss 100%[===================>] 307.92M  6.73MB/s    in 44s     \n",
            "\n",
            "2020-10-14 07:49:01 (7.01 MB/s) - ‘/tmp/rockpaperscissors.zip’ saved [322873683/322873683]\n",
            "\n"
          ],
          "name": "stdout"
        }
      ]
    },
    {
      "cell_type": "code",
      "metadata": {
        "id": "qDgo-Qw8AL8l"
      },
      "source": [
        "# extract file zip\n",
        "import zipfile\n",
        "local_zip = '/tmp/rockpaperscissors.zip'\n",
        "zip_ref = zipfile.ZipFile(local_zip, 'r')\n",
        "zip_ref.extractall('/tmp')\n",
        "zip_ref.close()"
      ],
      "execution_count": 3,
      "outputs": []
    },
    {
      "cell_type": "markdown",
      "metadata": {
        "id": "X7SYwcH6AQTM"
      },
      "source": [
        "Split DataSet"
      ]
    },
    {
      "cell_type": "code",
      "metadata": {
        "id": "jpkMYi-bATyA"
      },
      "source": [
        "#make directory for train and val\n",
        "base_dir = '/tmp/rockpaperscissors/'\n",
        "train_dir = os.path.join(base_dir, 'train')\n",
        "validation_dir = os.path.join(base_dir, 'val')\n",
        "os.mkdir(train_dir)\n",
        "os.mkdir(validation_dir)"
      ],
      "execution_count": 4,
      "outputs": []
    },
    {
      "cell_type": "code",
      "metadata": {
        "id": "QDqyeSUoAWFR"
      },
      "source": [
        "#Link directory rock, paper, scissors\n",
        "roc_dir = os.path.join(base_dir, 'rock')\n",
        "pap_dir = os.path.join(base_dir, 'paper')\n",
        "sci_dir = os.path.join(base_dir, 'scissors')"
      ],
      "execution_count": 5,
      "outputs": []
    },
    {
      "cell_type": "code",
      "metadata": {
        "id": "5kVSLZR2AY_F"
      },
      "source": [
        "#make directory for rock, paper, scrissors in train_dir and validation_dir\n",
        "train_roc = os.path.join(train_dir, 'rock')\n",
        "train_pap = os.path.join(train_dir, 'paper')\n",
        "train_sci = os.path.join(train_dir, 'scissors')\n",
        "val_roc = os.path.join(validation_dir, 'rock')\n",
        "val_pap = os.path.join(validation_dir, 'paper')\n",
        "val_sci = os.path.join(validation_dir, 'scissors')\n",
        "\n",
        "os.mkdir(train_roc)\n",
        "os.mkdir(train_pap)\n",
        "os.mkdir(train_sci)\n",
        "os.mkdir(val_roc)\n",
        "os.mkdir(val_pap)\n",
        "os.mkdir(val_sci)"
      ],
      "execution_count": 6,
      "outputs": []
    },
    {
      "cell_type": "code",
      "metadata": {
        "id": "4pLH6zm0AjcM"
      },
      "source": [
        "#Split Data for Train and Validation\n",
        "train_roc_dir, val_roc_dir = train_test_split(os.listdir(roc_dir), test_size = 0.40)\n",
        "train_pap_dir, val_pap_dir = train_test_split(os.listdir(pap_dir), test_size = 0.40)\n",
        "train_sci_dir, val_sci_dir = train_test_split(os.listdir(sci_dir), test_size = 0.40)\n",
        "\n",
        "for i in train_roc_dir:\n",
        "  shutil.copy(os.path.join(roc_dir, i), os.path.join(train_roc, i))\n",
        "for i in train_pap_dir:\n",
        "  shutil.copy(os.path.join(pap_dir,i), os.path.join(train_pap,i))\n",
        "for i in train_sci_dir:\n",
        "  shutil.copy(os.path.join(sci_dir,i), os.path.join(train_sci,i))\n",
        "\n",
        "for i in val_roc_dir:\n",
        "  shutil.copy(os.path.join(roc_dir, i), os.path.join(val_roc,i))\n",
        "for i in val_pap_dir:\n",
        "  shutil.copy(os.path.join(pap_dir,i), os.path.join(val_pap,i))\n",
        "for i in val_sci_dir:\n",
        "  shutil.copy(os.path.join(sci_dir,i), os.path.join(val_sci,i))"
      ],
      "execution_count": 7,
      "outputs": []
    },
    {
      "cell_type": "markdown",
      "metadata": {
        "id": "Hyjq5r0BAu4W"
      },
      "source": [
        "Augmentation Image"
      ]
    },
    {
      "cell_type": "code",
      "metadata": {
        "id": "o77lqWMqAuTK",
        "outputId": "2291499a-add1-4d4a-be69-b2f221924aba",
        "colab": {
          "base_uri": "https://localhost:8080/",
          "height": 35
        }
      },
      "source": [
        "train_datagen = ImageDataGenerator(\n",
        "                    rescale=1./255,\n",
        "                    rotation_range=45,\n",
        "                    shear_range=0.2,\n",
        "                    width_shift_range=0.15,\n",
        "                    height_shift_range=0.15,\n",
        "                    horizontal_flip=True,\n",
        "                    vertical_flip=True,\n",
        "                    zoom_range=0.5,\n",
        "                    fill_mode = 'nearest'\n",
        "                    )\n",
        "\n",
        "train_generator = train_datagen.flow_from_directory(\n",
        "    batch_size=32,\n",
        "    directory=train_dir,\n",
        "    shuffle=True,\n",
        "    target_size=(150,150),\n",
        "    class_mode='categorical'\n",
        ")"
      ],
      "execution_count": 16,
      "outputs": [
        {
          "output_type": "stream",
          "text": [
            "Found 1312 images belonging to 3 classes.\n"
          ],
          "name": "stdout"
        }
      ]
    },
    {
      "cell_type": "code",
      "metadata": {
        "id": "MFjCjYrUA4x0",
        "outputId": "7849825a-2d58-41e8-ebfb-e13a604549ce",
        "colab": {
          "base_uri": "https://localhost:8080/",
          "height": 35
        }
      },
      "source": [
        "val_datagen = ImageDataGenerator(rescale=1./255\n",
        "                                 )\n",
        "\n",
        "val_generator = val_datagen.flow_from_directory(\n",
        "    directory=validation_dir,\n",
        "    target_size=(150, 150),\n",
        "    batch_size= 32,\n",
        "    class_mode='categorical'\n",
        "    )"
      ],
      "execution_count": 17,
      "outputs": [
        {
          "output_type": "stream",
          "text": [
            "Found 876 images belonging to 3 classes.\n"
          ],
          "name": "stdout"
        }
      ]
    },
    {
      "cell_type": "code",
      "metadata": {
        "id": "YTZg8RfwDwZa",
        "outputId": "470a6c0e-4d82-4a04-cb6c-7d66fefac7bb",
        "colab": {
          "base_uri": "https://localhost:8080/",
          "height": 563
        }
      },
      "source": [
        "model = tf.keras.models.Sequential([\n",
        "                                    tf.keras.layers.Conv2D(32, (3,3), activation='relu', input_shape=(150, 150, 3)),\n",
        "                                    tf.keras.layers.MaxPooling2D(2, 2),\n",
        "                                    tf.keras.layers.Conv2D(64, (3,3), activation='relu'),\n",
        "                                    tf.keras.layers.MaxPooling2D(2,2),\n",
        "                                    tf.keras.layers.Conv2D(128, (3,3), activation='relu'),\n",
        "                                    tf.keras.layers.MaxPooling2D(2,2),\n",
        "                                    tf.keras.layers.Conv2D(128, (3,3), activation='relu'),\n",
        "                                    tf.keras.layers.MaxPooling2D(2,2),\n",
        "                                    tf.keras.layers.Flatten(),\n",
        "                                    tf.keras.layers.Dense(1024, activation='relu'),\n",
        "                                    tf.keras.layers.Dense(3, activation='sigmoid')\n",
        "                                    ])\n",
        "\n",
        "model.summary()"
      ],
      "execution_count": 21,
      "outputs": [
        {
          "output_type": "stream",
          "text": [
            "Model: \"sequential_5\"\n",
            "_________________________________________________________________\n",
            "Layer (type)                 Output Shape              Param #   \n",
            "=================================================================\n",
            "conv2d_20 (Conv2D)           (None, 148, 148, 32)      896       \n",
            "_________________________________________________________________\n",
            "max_pooling2d_20 (MaxPooling (None, 74, 74, 32)        0         \n",
            "_________________________________________________________________\n",
            "conv2d_21 (Conv2D)           (None, 72, 72, 64)        18496     \n",
            "_________________________________________________________________\n",
            "max_pooling2d_21 (MaxPooling (None, 36, 36, 64)        0         \n",
            "_________________________________________________________________\n",
            "conv2d_22 (Conv2D)           (None, 34, 34, 128)       73856     \n",
            "_________________________________________________________________\n",
            "max_pooling2d_22 (MaxPooling (None, 17, 17, 128)       0         \n",
            "_________________________________________________________________\n",
            "conv2d_23 (Conv2D)           (None, 15, 15, 128)       147584    \n",
            "_________________________________________________________________\n",
            "max_pooling2d_23 (MaxPooling (None, 7, 7, 128)         0         \n",
            "_________________________________________________________________\n",
            "flatten_5 (Flatten)          (None, 6272)              0         \n",
            "_________________________________________________________________\n",
            "dense_10 (Dense)             (None, 1024)              6423552   \n",
            "_________________________________________________________________\n",
            "dense_11 (Dense)             (None, 3)                 3075      \n",
            "=================================================================\n",
            "Total params: 6,667,459\n",
            "Trainable params: 6,667,459\n",
            "Non-trainable params: 0\n",
            "_________________________________________________________________\n"
          ],
          "name": "stdout"
        }
      ]
    },
    {
      "cell_type": "code",
      "metadata": {
        "id": "KamhGdY2E9O9"
      },
      "source": [
        "model.compile(loss='categorical_crossentropy',\n",
        "              optimizer=tf.optimizers.Adam(),\n",
        "              metrics=['accuracy'])"
      ],
      "execution_count": 22,
      "outputs": []
    },
    {
      "cell_type": "code",
      "metadata": {
        "id": "TNo4iH0zHMQc",
        "outputId": "09305154-59ac-4ab1-a30a-ddb80c1c76a6",
        "colab": {
          "base_uri": "https://localhost:8080/",
          "height": 745
        }
      },
      "source": [
        "import numpy as np\n",
        "epochs = 20\n",
        "\n",
        "history = model.fit(\n",
        "    train_generator,\n",
        "    steps_per_epoch=int(np.ceil(train_generator.n / float(32))),\n",
        "    epochs=epochs,\n",
        "    validation_data=val_generator,\n",
        "    validation_steps=int(np.ceil(val_generator.n / float(32)))\n",
        ")"
      ],
      "execution_count": 25,
      "outputs": [
        {
          "output_type": "stream",
          "text": [
            "Epoch 1/20\n",
            "41/41 [==============================] - 87s 2s/step - loss: 1.0826 - accuracy: 0.4017 - val_loss: 0.8613 - val_accuracy: 0.6781\n",
            "Epoch 2/20\n",
            "41/41 [==============================] - 80s 2s/step - loss: 0.9126 - accuracy: 0.5640 - val_loss: 0.6009 - val_accuracy: 0.7728\n",
            "Epoch 3/20\n",
            "41/41 [==============================] - 80s 2s/step - loss: 0.7255 - accuracy: 0.6806 - val_loss: 0.4168 - val_accuracy: 0.8744\n",
            "Epoch 4/20\n",
            "41/41 [==============================] - 90s 2s/step - loss: 0.6140 - accuracy: 0.7431 - val_loss: 0.3356 - val_accuracy: 0.8938\n",
            "Epoch 5/20\n",
            "41/41 [==============================] - 84s 2s/step - loss: 0.5184 - accuracy: 0.7683 - val_loss: 0.2632 - val_accuracy: 0.9167\n",
            "Epoch 6/20\n",
            "41/41 [==============================] - 79s 2s/step - loss: 0.5116 - accuracy: 0.7744 - val_loss: 0.3356 - val_accuracy: 0.8219\n",
            "Epoch 7/20\n",
            "41/41 [==============================] - 79s 2s/step - loss: 0.4267 - accuracy: 0.8201 - val_loss: 0.1415 - val_accuracy: 0.9532\n",
            "Epoch 8/20\n",
            "41/41 [==============================] - 89s 2s/step - loss: 0.3516 - accuracy: 0.8727 - val_loss: 0.1498 - val_accuracy: 0.9623\n",
            "Epoch 9/20\n",
            "41/41 [==============================] - 79s 2s/step - loss: 0.3125 - accuracy: 0.8780 - val_loss: 0.1419 - val_accuracy: 0.9566\n",
            "Epoch 10/20\n",
            "41/41 [==============================] - 79s 2s/step - loss: 0.2912 - accuracy: 0.8948 - val_loss: 0.1050 - val_accuracy: 0.9635\n",
            "Epoch 11/20\n",
            "41/41 [==============================] - 80s 2s/step - loss: 0.2561 - accuracy: 0.9017 - val_loss: 0.0488 - val_accuracy: 0.9886\n",
            "Epoch 12/20\n",
            "41/41 [==============================] - 93s 2s/step - loss: 0.1979 - accuracy: 0.9367 - val_loss: 0.0521 - val_accuracy: 0.9840\n",
            "Epoch 13/20\n",
            "41/41 [==============================] - 79s 2s/step - loss: 0.1450 - accuracy: 0.9527 - val_loss: 0.0341 - val_accuracy: 0.9943\n",
            "Epoch 14/20\n",
            "41/41 [==============================] - 79s 2s/step - loss: 0.1929 - accuracy: 0.9390 - val_loss: 0.1737 - val_accuracy: 0.9326\n",
            "Epoch 15/20\n",
            "41/41 [==============================] - 79s 2s/step - loss: 0.1462 - accuracy: 0.9505 - val_loss: 0.1011 - val_accuracy: 0.9715\n",
            "Epoch 16/20\n",
            "41/41 [==============================] - 89s 2s/step - loss: 0.1517 - accuracy: 0.9543 - val_loss: 0.0563 - val_accuracy: 0.9852\n",
            "Epoch 17/20\n",
            "41/41 [==============================] - 79s 2s/step - loss: 0.1920 - accuracy: 0.9345 - val_loss: 0.0347 - val_accuracy: 0.9897\n",
            "Epoch 18/20\n",
            "41/41 [==============================] - 78s 2s/step - loss: 0.1442 - accuracy: 0.9550 - val_loss: 0.0438 - val_accuracy: 0.9886\n",
            "Epoch 19/20\n",
            "41/41 [==============================] - 85s 2s/step - loss: 0.1190 - accuracy: 0.9581 - val_loss: 0.0400 - val_accuracy: 0.9886\n",
            "Epoch 20/20\n",
            "41/41 [==============================] - 85s 2s/step - loss: 0.1070 - accuracy: 0.9588 - val_loss: 0.0371 - val_accuracy: 0.9886\n"
          ],
          "name": "stdout"
        }
      ]
    }
  ]
}