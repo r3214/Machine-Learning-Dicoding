{
  "nbformat": 4,
  "nbformat_minor": 0,
  "metadata": {
    "colab": {
      "name": "Submission Dicoding.ipynb",
      "provenance": [],
      "collapsed_sections": [],
      "authorship_tag": "ABX9TyMqiGGMUWruoHkfIXnx5mPw",
      "include_colab_link": true
    },
    "kernelspec": {
      "name": "python3",
      "display_name": "Python 3"
    }
  },
  "cells": [
    {
      "cell_type": "markdown",
      "metadata": {
        "id": "view-in-github",
        "colab_type": "text"
      },
      "source": [
        "<a href=\"https://colab.research.google.com/github/r3214/Machine-Learning-Dicoding/blob/main/Submission_Dicoding.ipynb\" target=\"_parent\"><img src=\"https://colab.research.google.com/assets/colab-badge.svg\" alt=\"Open In Colab\"/></a>"
      ]
    },
    {
      "cell_type": "code",
      "metadata": {
        "id": "hbKIFJ7C_0HF"
      },
      "source": [
        "import tensorflow as tf\n",
        "import sklearn\n",
        "from tensorflow.keras.optimizers import RMSprop\n",
        "from tensorflow.keras.preprocessing.image import ImageDataGenerator\n",
        "from sklearn.model_selection import train_test_split\n",
        "import os, shutil, zipfile"
      ],
      "execution_count": null,
      "outputs": []
    },
    {
      "cell_type": "code",
      "metadata": {
        "id": "UtffY6AAAGRN",
        "outputId": "a8aeb089-088a-4c68-8416-e0f8dc8b127f",
        "colab": {
          "base_uri": "https://localhost:8080/",
          "height": 217
        }
      },
      "source": [
        "!wget --no-check-certificate \\\n",
        "https://dicodingacademy.blob.core.windows.net/picodiploma/ml_pemula_academy/rockpaperscissors.zip -O /tmp/rockpaperscissors.zip"
      ],
      "execution_count": null,
      "outputs": [
        {
          "output_type": "stream",
          "text": [
            "--2020-10-14 09:02:42--  https://dicodingacademy.blob.core.windows.net/picodiploma/ml_pemula_academy/rockpaperscissors.zip\n",
            "Resolving dicodingacademy.blob.core.windows.net (dicodingacademy.blob.core.windows.net)... 52.239.197.36\n",
            "Connecting to dicodingacademy.blob.core.windows.net (dicodingacademy.blob.core.windows.net)|52.239.197.36|:443... connected.\n",
            "HTTP request sent, awaiting response... 200 OK\n",
            "Length: 322873683 (308M) [application/zip]\n",
            "Saving to: ‘/tmp/rockpaperscissors.zip’\n",
            "\n",
            "/tmp/rockpapersciss 100%[===================>] 307.92M  14.1MB/s    in 19s     \n",
            "\n",
            "2020-10-14 09:03:01 (16.1 MB/s) - ‘/tmp/rockpaperscissors.zip’ saved [322873683/322873683]\n",
            "\n"
          ],
          "name": "stdout"
        }
      ]
    },
    {
      "cell_type": "code",
      "metadata": {
        "id": "qDgo-Qw8AL8l"
      },
      "source": [
        "# extract file zip\n",
        "import zipfile\n",
        "local_zip = '/tmp/rockpaperscissors.zip'\n",
        "zip_ref = zipfile.ZipFile(local_zip, 'r')\n",
        "zip_ref.extractall('/tmp')\n",
        "zip_ref.close()"
      ],
      "execution_count": null,
      "outputs": []
    },
    {
      "cell_type": "markdown",
      "metadata": {
        "id": "X7SYwcH6AQTM"
      },
      "source": [
        "Split DataSet"
      ]
    },
    {
      "cell_type": "code",
      "metadata": {
        "id": "jpkMYi-bATyA"
      },
      "source": [
        "#make directory for train and val\n",
        "base_dir = '/tmp/rockpaperscissors/'\n",
        "train_dir = os.path.join(base_dir, 'train')\n",
        "validation_dir = os.path.join(base_dir, 'val')\n",
        "os.mkdir(train_dir)\n",
        "os.mkdir(validation_dir)"
      ],
      "execution_count": null,
      "outputs": []
    },
    {
      "cell_type": "code",
      "metadata": {
        "id": "QDqyeSUoAWFR"
      },
      "source": [
        "#Link directory rock, paper, scissors\n",
        "roc_dir = os.path.join(base_dir, 'rock')\n",
        "pap_dir = os.path.join(base_dir, 'paper')\n",
        "sci_dir = os.path.join(base_dir, 'scissors')"
      ],
      "execution_count": null,
      "outputs": []
    },
    {
      "cell_type": "code",
      "metadata": {
        "id": "5kVSLZR2AY_F"
      },
      "source": [
        "#make directory for rock, paper, scrissors in train_dir and validation_dir\n",
        "train_roc = os.path.join(train_dir, 'rock')\n",
        "train_pap = os.path.join(train_dir, 'paper')\n",
        "train_sci = os.path.join(train_dir, 'scissors')\n",
        "val_roc = os.path.join(validation_dir, 'rock')\n",
        "val_pap = os.path.join(validation_dir, 'paper')\n",
        "val_sci = os.path.join(validation_dir, 'scissors')\n",
        "\n",
        "os.mkdir(train_roc)\n",
        "os.mkdir(train_pap)\n",
        "os.mkdir(train_sci)\n",
        "os.mkdir(val_roc)\n",
        "os.mkdir(val_pap)\n",
        "os.mkdir(val_sci)"
      ],
      "execution_count": null,
      "outputs": []
    },
    {
      "cell_type": "code",
      "metadata": {
        "id": "4pLH6zm0AjcM"
      },
      "source": [
        "#Split Data for Train and Validation\n",
        "train_roc_dir, val_roc_dir = train_test_split(os.listdir(roc_dir), test_size = 0.40)\n",
        "train_pap_dir, val_pap_dir = train_test_split(os.listdir(pap_dir), test_size = 0.40)\n",
        "train_sci_dir, val_sci_dir = train_test_split(os.listdir(sci_dir), test_size = 0.40)\n",
        "\n",
        "for i in train_roc_dir:\n",
        "  shutil.copy(os.path.join(roc_dir, i), os.path.join(train_roc, i))\n",
        "for i in train_pap_dir:\n",
        "  shutil.copy(os.path.join(pap_dir,i), os.path.join(train_pap,i))\n",
        "for i in train_sci_dir:\n",
        "  shutil.copy(os.path.join(sci_dir,i), os.path.join(train_sci,i))\n",
        "\n",
        "for i in val_roc_dir:\n",
        "  shutil.copy(os.path.join(roc_dir, i), os.path.join(val_roc,i))\n",
        "for i in val_pap_dir:\n",
        "  shutil.copy(os.path.join(pap_dir,i), os.path.join(val_pap,i))\n",
        "for i in val_sci_dir:\n",
        "  shutil.copy(os.path.join(sci_dir,i), os.path.join(val_sci,i))"
      ],
      "execution_count": null,
      "outputs": []
    },
    {
      "cell_type": "markdown",
      "metadata": {
        "id": "Hyjq5r0BAu4W"
      },
      "source": [
        "Augmentation Image"
      ]
    },
    {
      "cell_type": "code",
      "metadata": {
        "id": "o77lqWMqAuTK",
        "outputId": "9edc4079-87d2-4d3a-df82-60ea607756e8",
        "colab": {
          "base_uri": "https://localhost:8080/",
          "height": 35
        }
      },
      "source": [
        "train_datagen = ImageDataGenerator(\n",
        "                    rescale=1./255,\n",
        "                    rotation_range=45,\n",
        "                    shear_range=0.2,\n",
        "                    width_shift_range=0.15,\n",
        "                    height_shift_range=0.15,\n",
        "                    horizontal_flip=True,\n",
        "                    vertical_flip=True,\n",
        "                    zoom_range=0.5,\n",
        "                    fill_mode = 'nearest'\n",
        "                    )\n",
        "\n",
        "train_generator = train_datagen.flow_from_directory(\n",
        "    batch_size=32,\n",
        "    directory=train_dir,\n",
        "    shuffle=True,\n",
        "    target_size=(150,150),\n",
        "    class_mode='categorical'\n",
        ")"
      ],
      "execution_count": null,
      "outputs": [
        {
          "output_type": "stream",
          "text": [
            "Found 1312 images belonging to 3 classes.\n"
          ],
          "name": "stdout"
        }
      ]
    },
    {
      "cell_type": "code",
      "metadata": {
        "id": "MFjCjYrUA4x0",
        "outputId": "07c45c69-3cff-4bb0-e093-510d77d58255",
        "colab": {
          "base_uri": "https://localhost:8080/",
          "height": 35
        }
      },
      "source": [
        "val_datagen = ImageDataGenerator(rescale=1./255\n",
        "                                 )\n",
        "\n",
        "val_generator = val_datagen.flow_from_directory(\n",
        "    directory=validation_dir,\n",
        "    target_size=(150, 150),\n",
        "    batch_size= 32,\n",
        "    class_mode='categorical'\n",
        "    )"
      ],
      "execution_count": null,
      "outputs": [
        {
          "output_type": "stream",
          "text": [
            "Found 876 images belonging to 3 classes.\n"
          ],
          "name": "stdout"
        }
      ]
    },
    {
      "cell_type": "code",
      "metadata": {
        "id": "YTZg8RfwDwZa",
        "outputId": "974fb126-c5c0-4264-e1db-fd2c2acabb3a",
        "colab": {
          "base_uri": "https://localhost:8080/",
          "height": 563
        }
      },
      "source": [
        "model = tf.keras.models.Sequential([\n",
        "                                    tf.keras.layers.Conv2D(32, (3,3), activation='relu', input_shape=(150, 150, 3)),\n",
        "                                    tf.keras.layers.MaxPooling2D(2, 2),\n",
        "                                    tf.keras.layers.Conv2D(64, (3,3), activation='relu'),\n",
        "                                    tf.keras.layers.MaxPooling2D(2,2),\n",
        "                                    tf.keras.layers.Conv2D(128, (3,3), activation='relu'),\n",
        "                                    tf.keras.layers.MaxPooling2D(2,2),\n",
        "                                    tf.keras.layers.Conv2D(128, (3,3), activation='relu'),\n",
        "                                    tf.keras.layers.MaxPooling2D(2,2),\n",
        "                                    tf.keras.layers.Flatten(),\n",
        "                                    tf.keras.layers.Dense(512, activation='relu'),\n",
        "                                    tf.keras.layers.Dense(3, activation='sigmoid')\n",
        "                                    ])\n",
        "\n",
        "model.summary()"
      ],
      "execution_count": null,
      "outputs": [
        {
          "output_type": "stream",
          "text": [
            "Model: \"sequential\"\n",
            "_________________________________________________________________\n",
            "Layer (type)                 Output Shape              Param #   \n",
            "=================================================================\n",
            "conv2d (Conv2D)              (None, 148, 148, 32)      896       \n",
            "_________________________________________________________________\n",
            "max_pooling2d (MaxPooling2D) (None, 74, 74, 32)        0         \n",
            "_________________________________________________________________\n",
            "conv2d_1 (Conv2D)            (None, 72, 72, 64)        18496     \n",
            "_________________________________________________________________\n",
            "max_pooling2d_1 (MaxPooling2 (None, 36, 36, 64)        0         \n",
            "_________________________________________________________________\n",
            "conv2d_2 (Conv2D)            (None, 34, 34, 128)       73856     \n",
            "_________________________________________________________________\n",
            "max_pooling2d_2 (MaxPooling2 (None, 17, 17, 128)       0         \n",
            "_________________________________________________________________\n",
            "conv2d_3 (Conv2D)            (None, 15, 15, 128)       147584    \n",
            "_________________________________________________________________\n",
            "max_pooling2d_3 (MaxPooling2 (None, 7, 7, 128)         0         \n",
            "_________________________________________________________________\n",
            "flatten (Flatten)            (None, 6272)              0         \n",
            "_________________________________________________________________\n",
            "dense (Dense)                (None, 512)               3211776   \n",
            "_________________________________________________________________\n",
            "dense_1 (Dense)              (None, 3)                 1539      \n",
            "=================================================================\n",
            "Total params: 3,454,147\n",
            "Trainable params: 3,454,147\n",
            "Non-trainable params: 0\n",
            "_________________________________________________________________\n"
          ],
          "name": "stdout"
        }
      ]
    },
    {
      "cell_type": "code",
      "metadata": {
        "id": "KamhGdY2E9O9"
      },
      "source": [
        "model.compile(loss='categorical_crossentropy',\n",
        "              optimizer=tf.optimizers.Adam(),\n",
        "              metrics=['accuracy'])"
      ],
      "execution_count": null,
      "outputs": []
    },
    {
      "cell_type": "code",
      "metadata": {
        "id": "zEPfxywNVS80"
      },
      "source": [
        "class myCallback(tf.keras.callbacks.Callback):\n",
        "  def on_epoch_end(self, epoch, logs={}):\n",
        "    if(logs.get('accuracy') > 0.96):\n",
        "      print(\"\\nAccuracy more than 96%, stop training!\")\n",
        "      self.model.stop_training = True\n",
        "\n",
        "callbacks = myCallback()"
      ],
      "execution_count": null,
      "outputs": []
    },
    {
      "cell_type": "code",
      "metadata": {
        "id": "TNo4iH0zHMQc",
        "outputId": "faec4d7b-5bf0-4a6f-c2da-69a146ce30b0",
        "colab": {
          "base_uri": "https://localhost:8080/",
          "height": 672
        }
      },
      "source": [
        "import numpy as np\n",
        "epochs = 20\n",
        "\n",
        "history = model.fit(\n",
        "    train_generator,\n",
        "    steps_per_epoch=int(np.ceil(train_generator.n / float(32))),\n",
        "    epochs=epochs,\n",
        "    validation_data=val_generator,\n",
        "    validation_steps=int(np.ceil(val_generator.n / float(32))),\n",
        "    verbose =2,\n",
        "      callbacks=[callbacks]\n",
        ")"
      ],
      "execution_count": null,
      "outputs": [
        {
          "output_type": "stream",
          "text": [
            "Epoch 1/20\n",
            "41/41 - 73s - loss: 1.0907 - accuracy: 0.3849 - val_loss: 1.0281 - val_accuracy: 0.3984\n",
            "Epoch 2/20\n",
            "41/41 - 73s - loss: 0.9598 - accuracy: 0.5381 - val_loss: 0.6293 - val_accuracy: 0.6404\n",
            "Epoch 3/20\n",
            "41/41 - 73s - loss: 0.7389 - accuracy: 0.6623 - val_loss: 0.4579 - val_accuracy: 0.8402\n",
            "Epoch 4/20\n",
            "41/41 - 72s - loss: 0.6112 - accuracy: 0.7363 - val_loss: 0.2935 - val_accuracy: 0.9087\n",
            "Epoch 5/20\n",
            "41/41 - 73s - loss: 0.5217 - accuracy: 0.7950 - val_loss: 0.5698 - val_accuracy: 0.7272\n",
            "Epoch 6/20\n",
            "41/41 - 76s - loss: 0.3642 - accuracy: 0.8643 - val_loss: 0.1378 - val_accuracy: 0.9623\n",
            "Epoch 7/20\n",
            "41/41 - 73s - loss: 0.2682 - accuracy: 0.9024 - val_loss: 0.0961 - val_accuracy: 0.9749\n",
            "Epoch 8/20\n",
            "41/41 - 72s - loss: 0.2689 - accuracy: 0.9078 - val_loss: 0.0855 - val_accuracy: 0.9715\n",
            "Epoch 9/20\n",
            "41/41 - 72s - loss: 0.2423 - accuracy: 0.9146 - val_loss: 0.2570 - val_accuracy: 0.8881\n",
            "Epoch 10/20\n",
            "41/41 - 72s - loss: 0.2448 - accuracy: 0.9245 - val_loss: 0.1346 - val_accuracy: 0.9543\n",
            "Epoch 11/20\n",
            "41/41 - 72s - loss: 0.1982 - accuracy: 0.9329 - val_loss: 0.0979 - val_accuracy: 0.9760\n",
            "Epoch 12/20\n",
            "41/41 - 72s - loss: 0.2205 - accuracy: 0.9261 - val_loss: 0.1766 - val_accuracy: 0.9452\n",
            "Epoch 13/20\n",
            "41/41 - 72s - loss: 0.1755 - accuracy: 0.9436 - val_loss: 0.0794 - val_accuracy: 0.9772\n",
            "Epoch 14/20\n",
            "41/41 - 76s - loss: 0.1661 - accuracy: 0.9398 - val_loss: 0.1635 - val_accuracy: 0.9498\n",
            "Epoch 15/20\n",
            "41/41 - 72s - loss: 0.1591 - accuracy: 0.9436 - val_loss: 0.0833 - val_accuracy: 0.9795\n",
            "Epoch 16/20\n",
            "41/41 - 72s - loss: 0.1471 - accuracy: 0.9466 - val_loss: 0.0824 - val_accuracy: 0.9817\n",
            "Epoch 17/20\n",
            "\n",
            "Accuracy more than 96%, stop training!\n",
            "41/41 - 72s - loss: 0.1029 - accuracy: 0.9642 - val_loss: 0.0557 - val_accuracy: 0.9897\n"
          ],
          "name": "stdout"
        }
      ]
    }
  ]
}